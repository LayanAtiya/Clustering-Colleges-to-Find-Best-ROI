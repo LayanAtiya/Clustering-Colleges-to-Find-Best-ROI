{
 "cells": [
  {
   "cell_type": "code",
   "execution_count": 15,
   "id": "0b3f49df-29be-4860-9d24-7026b5307a76",
   "metadata": {},
   "outputs": [],
   "source": [
    "# import libraries\n",
    "import pandas as pd\n",
    "import matplotlib.pyplot as plt\n",
    "import seaborn as sns\n",
    "from sklearn.preprocessing import StandardScaler\n",
    "from sklearn.cluster import KMeans"
   ]
  },
  {
   "cell_type": "code",
   "execution_count": null,
   "id": "b3575b8a-6088-4bfc-8822-4fc07c8cf92d",
   "metadata": {},
   "outputs": [],
   "source": [
    "# load dataset\n",
    "df = pd.read_csv(\"Most-Recent-Cohorts-Field-of-Study.csv\", low_memory=False)"
   ]
  },
  {
   "cell_type": "code",
   "execution_count": null,
   "id": "b4405214-b7c3-4b92-bd1d-004a6f038e3e",
   "metadata": {},
   "outputs": [],
   "source": [
    "#explore dataset\n",
    "print(df.shape)\n",
    "print(df.columns.tolist())\n",
    "df.head()"
   ]
  },
  {
   "cell_type": "code",
   "execution_count": null,
   "id": "413d9540-f5ec-407b-8f0a-d0dd0462752c",
   "metadata": {},
   "outputs": [],
   "source": [
    "# filter for Bachelor programs\n",
    "bachelors_df = df[df['CREDDESC'].str.contains(\"Bachelor's Degree\", na=False)]\n",
    "bachelors_df.shape"
   ]
  },
  {
   "cell_type": "code",
   "execution_count": null,
   "id": "e0fbe844-6e96-4f2b-af9b-8db4ca448660",
   "metadata": {},
   "outputs": [],
   "source": [
    "# select relevent fields\n",
    "selected_cols = [\n",
    "    'INSTNM', 'CIPDESC', 'CREDLEV', 'CREDDESC',\n",
    "    'DEBT_ALL_PP_ANY_MDN', 'EARN_MDN_1YR', 'EARN_MDN_4YR',\n",
    "    'EARN_MDN_5YR']\n",
    "data = bachelors_df[selected_cols].copy()\n",
    "data.shape"
   ]
  },
  {
   "cell_type": "code",
   "execution_count": null,
   "id": "708d6a63-1a02-4d13-8e1c-65e8a5050f5f",
   "metadata": {},
   "outputs": [],
   "source": [
    "# Convert debt and income to numeric\n",
    "for column in ['DEBT_ALL_PP_ANY_MDN', 'EARN_MDN_1YR', 'EARN_MDN_4YR', 'EARN_MDN_5YR']:\n",
    "    data[column] = pd.to_numeric(data[column], errors='coerce')\n",
    "\n",
    "# Drop rows with missing values in the chosen columns\n",
    "df_clean = data.dropna(subset=['DEBT_ALL_PP_ANY_MDN', 'EARN_MDN_1YR', 'EARN_MDN_4YR', 'EARN_MDN_5YR'])"
   ]
  },
  {
   "cell_type": "code",
   "execution_count": null,
   "id": "64100fa3-f99e-41dc-9f63-7312232c6a7d",
   "metadata": {},
   "outputs": [],
   "source": [
    "# Features for clustering\n",
    "features = ['DEBT_ALL_PP_ANY_MDN', 'EARN_MDN_1YR', 'EARN_MDN_4YR', 'EARN_MDN_5YR']\n",
    "X = df_clean[features]"
   ]
  },
  {
   "cell_type": "code",
   "execution_count": null,
   "id": "821ab9ad-9b4d-49a6-852b-e81295a03b79",
   "metadata": {},
   "outputs": [],
   "source": [
    "# standardize data\n",
    "scaler = StandardScaler()\n",
    "X_scaled = scaler.fit_transform(X)"
   ]
  },
  {
   "cell_type": "code",
   "execution_count": null,
   "id": "76737656-76c4-4677-919c-25362532d425",
   "metadata": {},
   "outputs": [],
   "source": [
    "# Elbow method to find optimal k\n",
    "inertia = []\n",
    "K = range(1, 10)\n",
    "for k in K:\n",
    "    kmeans = KMeans(n_clusters=k, random_state=42)\n",
    "    kmeans.fit(X_scaled)\n",
    "    inertia.append(kmeans.inertia_)"
   ]
  },
  {
   "cell_type": "code",
   "execution_count": null,
   "id": "f1e3c67d-21f0-4487-924c-ab30f791dd4a",
   "metadata": {},
   "outputs": [],
   "source": [
    "# Plot elbow curve\n",
    "plt.figure(figsize=(8, 4))\n",
    "plt.plot(K, inertia, 'bo-')\n",
    "plt.xlabel('Number of clusters (k)')\n",
    "plt.ylabel('Inertia')\n",
    "plt.title('Elbow Method For Optimal k')\n",
    "plt.show()"
   ]
  },
  {
   "cell_type": "code",
   "execution_count": null,
   "id": "b694b557-f56a-453c-b6cf-29456d6bbbf3",
   "metadata": {},
   "outputs": [],
   "source": [
    "# KMeans clustering with k=3\n",
    "kmeans = KMeans(n_clusters=3, random_state=42)\n",
    "df_clean['Cluster'] = kmeans.fit_predict(X_scaled)"
   ]
  },
  {
   "cell_type": "code",
   "execution_count": null,
   "id": "59050380-b740-4759-a875-259d7736df25",
   "metadata": {},
   "outputs": [],
   "source": [
    "# Display cluster centers\n",
    "cluster_centers = scaler.inverse_transform(kmeans.cluster_centers_)\n",
    "cluster_df = pd.DataFrame(cluster_centers, columns=features)\n",
    "print(cluster_df)"
   ]
  },
  {
   "cell_type": "code",
   "execution_count": null,
   "id": "cb9e135d-3ce4-4ac0-8cfa-48fa4d41883e",
   "metadata": {},
   "outputs": [],
   "source": [
    "cluster_labels = {\n",
    "    0: 'Moderate-Debt High-Earnings',\n",
    "    1: 'Low-Debt Low-Earnings',\n",
    "    2: 'High-Debt Moderate-Earnings'}\n",
    "\n",
    "df_clean['Cluster_Label'] = df_clean['Cluster'].map(cluster_labels)"
   ]
  },
  {
   "cell_type": "code",
   "execution_count": null,
   "id": "0556dcd9-424e-4c21-b10c-7fe0ecda0d1f",
   "metadata": {},
   "outputs": [],
   "source": [
    "# Scatter plot with clusters\n",
    "plt.figure(figsize=(10, 6))\n",
    "sns.scatterplot(\n",
    "    data=df_clean,\n",
    "    x='DEBT_ALL_PP_ANY_MDN',\n",
    "    y='EARN_MDN_5YR',\n",
    "    hue='Cluster_Label',\n",
    "    palette='Set1',\n",
    "    alpha=0.7\n",
    ")\n",
    "plt.title(\"College Clusters by Debt and 5-Year Earnings\")\n",
    "plt.xlabel(\"Median Debt (All Students)\")\n",
    "plt.ylabel(\"Median Earnings (5 Years After Graduation)\")\n",
    "plt.legend(title='Cluster')\n",
    "plt.tight_layout()\n",
    "plt.show()"
   ]
  },
  {
   "cell_type": "code",
   "execution_count": null,
   "id": "5ea8855e-0e5c-41aa-8d36-de8658af1a68",
   "metadata": {},
   "outputs": [],
   "source": [
    "cluster_summary = df_clean.groupby('Cluster')[['DEBT_ALL_PP_ANY_MDN', 'EARN_MDN_1YR', 'EARN_MDN_4YR', 'EARN_MDN_5YR']].mean().round(2)\n",
    "cluster_summary['Count'] = df_clean['Cluster'].value_counts().sort_index()\n",
    "print(\"Cluster Summary:\\n\", cluster_summary)"
   ]
  },
  {
   "cell_type": "code",
   "execution_count": null,
   "id": "ad03411d-c726-482a-85c3-bdedf09c80f9",
   "metadata": {},
   "outputs": [],
   "source": [
    "# calculate ROI\n",
    "df_clean['Earnings_to_Debt'] = df_clean['EARN_MDN_5YR'] / df_clean['DEBT_ALL_PP_ANY_MDN']\n",
    "df_clean['Earnings_to_Debt'] = df_clean['Earnings_to_Debt'].replace([float('inf'), -float('inf')], None)"
   ]
  },
  {
   "cell_type": "code",
   "execution_count": null,
   "id": "9d9a05a9-9f6e-4c23-9b5c-cd22c3ef608c",
   "metadata": {},
   "outputs": [],
   "source": [
    "# pull top 3 best ROI programs per cluster\n",
    "top_programs = df_clean.sort_values(by='Earnings_to_Debt', ascending=False).groupby('Cluster').head(3)\n",
    "print(\"Top 3 programs by ROI in each cluster:\\n\", top_programs[['INSTNM', 'CIPDESC', 'DEBT_ALL_PP_ANY_MDN', 'EARN_MDN_5YR', 'Earnings_to_Debt']])"
   ]
  }
 ],
 "metadata": {
  "kernelspec": {
   "display_name": "Python 3 (ipykernel)",
   "language": "python",
   "name": "python3"
  },
  "language_info": {
   "codemirror_mode": {
    "name": "ipython",
    "version": 3
   },
   "file_extension": ".py",
   "mimetype": "text/x-python",
   "name": "python",
   "nbconvert_exporter": "python",
   "pygments_lexer": "ipython3",
   "version": "3.12.4"
  }
 },
 "nbformat": 4,
 "nbformat_minor": 5
}
